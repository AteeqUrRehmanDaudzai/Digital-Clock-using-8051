{
  "metadata": {
    "language_info": {
      "name": "python",
      "version": "3.10.12",
      "mimetype": "text/x-python",
      "codemirror_mode": {
        "name": "ipython",
        "version": 3
      },
      "pygments_lexer": "ipython3",
      "nbconvert_exporter": "python",
      "file_extension": ".py"
    },
    "kernelspec": {
      "name": "python3",
      "display_name": "Python 3",
      "language": "python"
    },
    "colab": {
      "name": "U.S. Farms Biogas ML Prediction(Livestock)",
      "provenance": [],
      "include_colab_link": true
    }
  },
  "nbformat_minor": 0,
  "nbformat": 4,
  "cells": [
    {
      "cell_type": "markdown",
      "metadata": {
        "id": "view-in-github",
        "colab_type": "text"
      },
      "source": [
        "<a href=\"https://colab.research.google.com/github/AteeqUrRehmanDaudzai/Digital-Clock-using-8051/blob/master/U_S_Farms_Biogas_ML_Prediction(Livestock).ipynb\" target=\"_parent\"><img src=\"https://colab.research.google.com/assets/colab-badge.svg\" alt=\"Open In Colab\"/></a>"
      ]
    },
    {
      "source": [
        "# IMPORTANT: RUN THIS CELL IN ORDER TO IMPORT YOUR KAGGLE DATA SOURCES,\n",
        "# THEN FEEL FREE TO DELETE THIS CELL.\n",
        "# NOTE: THIS NOTEBOOK ENVIRONMENT DIFFERS FROM KAGGLE'S PYTHON\n",
        "# ENVIRONMENT SO THERE MAY BE MISSING LIBRARIES USED BY YOUR\n",
        "# NOTEBOOK.\n",
        "import kagglehub\n",
        "mehmetisik_livestock_anaerobic_digester_database_path = kagglehub.dataset_download('mehmetisik/livestock-anaerobic-digester-database')\n",
        "mehmetisik_agstar_livestock_ad_database_combined_path = kagglehub.dataset_download('mehmetisik/agstar-livestock-ad-database-combined')\n",
        "mehmetisik_veri_seti_son_2_path = kagglehub.dataset_download('mehmetisik/veri-seti-son-2')\n",
        "\n",
        "print('Data source import complete.')\n"
      ],
      "metadata": {
        "id": "Yhh6b5ubzJi-"
      },
      "cell_type": "code",
      "outputs": [],
      "execution_count": null
    },
    {
      "cell_type": "markdown",
      "source": [
        "<div style=\"border: 15px solid #4A148C; border-radius: 30px; padding: 250px 30px 250px 30px; box-shadow: 5px 5px 15px grey; background-image: url('https://www.nationalgrid.com/sites/default/files/styles/content_embedded_image/public/images/Biogas_CowsGrazingInField_640x360.jpg?itok=REI3L5G6'); background-size: cover; background-position: center;\">\n",
        "    <div style=\"padding: 0; margin: -220px 0 0 0;\">\n",
        "        <h1 style=\"font-size: 42px; font-weight: bold; color: white; text-align: center; border-bottom: 6px ridge #FFC107; font-family: 'Georgia'; padding: 20px; background: linear-gradient(135deg, rgba(255,255,204,0.6) 0%, rgba(204,204,255,0.6) 100%); text-shadow: 3px 3px 6px #888888;\">U.S. Farms Biogas Machine Learning Prediction (Livestock)</h1>\n",
        "        <h2 style=\"font-size: 32px; font-weight: bold; color: white; text-align: center; font-family: 'Georgia'; padding: 15px; background: linear-gradient(135deg, rgba(255,255,255,0.6) 30%, rgba(255,228,228,0.6) 100%); border-radius: 20px; box-shadow: 5px 5px 10px grey;\">Cattle, Dairy, Poultry, and Swine</h2>\n",
        "    </div>\n",
        "</div>"
      ],
      "metadata": {
        "id": "pd6PB5MszJjM"
      }
    },
    {
      "cell_type": "markdown",
      "source": [
        "<div style=\"border: 10px solid #4A148C; border-radius: 15px; padding: 20px 20px 20px 20px; box-shadow: 3px 3px 10px grey; background-color: #f4f4f4;\">\n",
        "    <h2 style=\"font-size: 28px; font-weight: bold; color: #006400; text-align: center; border-bottom: 4px ridge #FFC107; font-family: 'Georgia'; padding: 10px;\">🌍 Business Problem</h2>\n",
        "    <p style=\"font-size: 16px; font-family: 'Times New Roman'; padding: 10px;\">Livestock farming is a significant industry, contributing not only to food production but also to the production of biogas as a renewable energy source. Understanding the potential of biogas production from various livestock types like cattle, dairy cows, poultry, and swine can provide valuable insights for farmers, energy companies, and policymakers.</p>\n",
        "    <ul style=\"font-size: 16px; font-family: 'Times New Roman'; padding: 10px;\">\n",
        "        <li>📊 <strong>Optimized Farming Strategies:</strong> With accurate predictions, farmers can optimize their livestock types for maximum biogas production, thus making the farm more profitable.</li>\n",
        "        <li>🎯 <strong>Investment Decisions:</strong> Energy companies and investors can use this predictive data to make more informed decisions on where to invest for biogas production.</li>\n",
        "        <li>🌱 <strong>Sustainable Energy Goals:</strong> Predicting biogas production can be a crucial step in achieving sustainability goals, thereby contributing to a cleaner environment.</li>\n",
        "    </ul>\n",
        "    <p style=\"font-size: 16px; font-family: 'Times New Roman'; padding: 10px;\">The insights gained from these predictions can help in shaping policies, directing investments, and adopting best practices for maximizing biogas production, thereby contributing to more sustainable and efficient farming operations.</p>\n",
        "</div>"
      ],
      "metadata": {
        "id": "kMeO9-hAzJjQ"
      }
    },
    {
      "cell_type": "markdown",
      "source": [
        "<div style=\"border: 10px solid #2ECC71; border-radius: 30px; padding: 40px; box-shadow: 10px 10px 25px #16A085; background: linear-gradient(to bottom right, #D1F2EB, #E8F8F5);\">\n",
        "    <h2 style=\"font-size: 34px; font-weight: bold; color: #0E6655; text-align: center; border-bottom: 5px solid #F1C40F; font-family: 'Arial'; padding: 20px; margin-top: 0; box-shadow: 5px 5px 15px #7D8A99; background-color: #FEF5E7; border-radius: 20px;\">📊 Dataset Story</h2>\n",
        "    <ul style=\"font-size: 18px; font-family: 'Calibri'; padding: 30px; line-height: 1.7; list-style-type: none;\">\n",
        "        <li>📌 <strong style=\"color: #0E6655;\">Project Name:</strong> The name of the biogas project.</li>\n",
        "        <li>📍 <strong style=\"color: #0E6655;\">Project Type:</strong> Type of the biogas project.</li>\n",
        "        <li>🌆 <strong style=\"color: #0E6655;\">City:</strong> The city where the project is located.</li>\n",
        "        <li>🏞️ <strong style=\"color: #0E6655;\">County:</strong> The county where the project is situated.</li>\n",
        "        <li>🗺️ <strong style=\"color: #0E6655;\">State:</strong> The state where the project is located.</li>\n",
        "        <li>🔬 <strong style=\"color: #0E6655;\">Digester Type:</strong> Type of digester used in the project.</li>\n",
        "        <li>🔍 <strong style=\"color: #0E6655;\">Status:</strong> Current status of the project.</li>\n",
        "        <li>📅 <strong style=\"color: #0E6655;\">Year Operational:</strong> The year when the project became operational.</li>\n",
        "        <li>🐄 <strong style=\"color: #0E6655;\">Animal/Farm Type(s):</strong> Types of animals or farms used in the project.</li>\n",
        "        <li>🐄 <strong style=\"color: #0E6655;\">Cattle:</strong> Number of cattle involved.</li>\n",
        "        <li>🥛 <strong style=\"color: #0E6655;\">Dairy:</strong> Number of dairy cows involved.</li>\n",
        "        <li>🐔 <strong style=\"color: #0E6655;\">Poultry:</strong> Number of poultry involved.</li>\n",
        "        <li>🐖 <strong style=\"color: #0E6655;\">Swine:</strong> Number of swine involved.</li>\n",
        "        <li>🔄 <strong style=\"color: #0E6655;\">Co-Digestion:</strong> Information on whether co-digestion is being used or not.</li>\n",
        "        <li>🌬️ <strong style=\"color: #0E6655;\">Biogas Generation Estimate (cu-ft/day):</strong> Estimated daily biogas production.</li>\n",
        "        <li>⚡ <strong style=\"color: #0E6655;\">Electricity Generated (kWh/yr):</strong> Estimated annual electricity generation.</li>\n",
        "        <li>💡 <strong style=\"color: #0E6655;\">Biogas End Use(s):</strong> How the produced biogas is utilized.</li>\n",
        "        <li>🌿 <strong style=\"color: #0E6655;\">LCFS Pathway?:</strong> Information on the Low Carbon Fuel Standard pathway.</li>\n",
        "        <li>🔌 <strong style=\"color: #0E6655;\">Receiving Utility:</strong> The utility company receiving the biogas or electricity.</li>\n",
        "        <li>🌍 <strong style=\"color: #0E6655;\">Total Emission Reductions (MTCO2e/yr):</strong> Estimated total emission reduction.</li>\n",
        "        <li>🏆 <strong style=\"color: #0E6655;\">Awarded USDA Funding?:</strong> Information on whether the project received USDA funding or not.</li>\n",
        "        <li>📊 <strong style=\"color: #0E6655;\">Operational Years:</strong> Number of years the project has been operational.</li>\n",
        "        <li>🦓 <strong style=\"color: #0E6655;\">Total_Animals:</strong> Total number of animals involved in the project.</li>\n",
        "        <li>💨 <strong style=\"color: #0E6655;\">Biogas_per_Animal (cu-ft/day):</strong> Estimated biogas production per animal.</li>\n",
        "        <li>🌱 <strong style=\"color: #0E6655;\">Emission_Reduction_per_Year:</strong> Estimated annual emission reduction per animal.</li>\n",
        "        <li>🔋 <strong style=\"color: #0E6655;\">Electricity_to_Biogas_Ratio:</strong> The ratio between electricity generation and biogas production.</li>\n",
        "        <li>🗑️ <strong style=\"color: #0E6655;\">Total_Waste_kg/day:</strong> Estimated daily waste production.</li>\n",
        "        <li>⚙️ <strong style=\"color: #0E6655;\">Waste_Efficiency:</strong> Efficiency of waste conversion to biogas.</li>\n",
        "        <li>🔧 <strong style=\"color: #0E6655;\">Electricity_Efficiency:</strong> Efficiency of biogas conversion to electricity.</li>\n",
        "    </ul>\n",
        "</div>"
      ],
      "metadata": {
        "id": "HGbFpcAzzJjT"
      }
    },
    {
      "cell_type": "markdown",
      "source": [
        "# <div style=\"padding: 30px; color:white; margin:10; font-size:150%; text-align:left; display:fill; border-radius:10px; background-color:#3b3745\"><b><span style='color:#F1A424'>1 |</span></b> <b>Importing Libraries</b></div>"
      ],
      "metadata": {
        "id": "T_Ivle2zzJjV"
      }
    },
    {
      "cell_type": "code",
      "source": [
        "import pandas as pd\n",
        "import numpy as np\n",
        "import matplotlib.pyplot as plt\n",
        "import seaborn as sns\n",
        "import time\n",
        "\n",
        "from datetime import datetime\n",
        "from IPython.display import HTML as html_print\n",
        "from termcolor import colored\n",
        "from IPython.display import display\n",
        "\n",
        "import warnings\n",
        "warnings.filterwarnings(\"ignore\", category=UserWarning, module=\"scipy\")\n",
        "\n",
        "from catboost import CatBoostRegressor\n",
        "from lightgbm import LGBMRegressor\n",
        "from sklearn.ensemble import RandomForestRegressor, GradientBoostingRegressor\n",
        "from sklearn.exceptions import ConvergenceWarning\n",
        "from sklearn.linear_model import LinearRegression, Ridge, Lasso, ElasticNet\n",
        "from sklearn.neighbors import KNeighborsRegressor\n",
        "from sklearn.svm import SVR\n",
        "from sklearn.tree import DecisionTreeRegressor\n",
        "from xgboost import XGBRegressor\n",
        "from sklearn.preprocessing import LabelEncoder\n",
        "from sklearn import metrics\n",
        "from sklearn.metrics import mean_squared_error, mean_absolute_error, r2_score\n",
        "from sklearn.linear_model import LinearRegression\n",
        "from sklearn.model_selection import train_test_split, cross_val_score,GridSearchCV\n",
        "from sklearn.preprocessing import MinMaxScaler, LabelEncoder, StandardScaler, RobustScaler"
      ],
      "metadata": {
        "execution": {
          "iopub.status.busy": "2023-09-10T21:31:51.844341Z",
          "iopub.execute_input": "2023-09-10T21:31:51.845224Z",
          "iopub.status.idle": "2023-09-10T21:31:53.162701Z",
          "shell.execute_reply.started": "2023-09-10T21:31:51.845192Z",
          "shell.execute_reply": "2023-09-10T21:31:53.161374Z"
        },
        "trusted": true,
        "id": "aQWpv3mUzJjW"
      },
      "execution_count": null,
      "outputs": []
    },
    {
      "cell_type": "markdown",
      "source": [
        "# <div style=\"padding: 30px; color:white; margin:10; font-size:150%; text-align:left; display:fill; border-radius:10px; background-color:#3b3745\"><b><span style='color:#F1A424'>2 |</span></b> <b>Adjusting Row & Column Settings</b></div>"
      ],
      "metadata": {
        "id": "kb5dz35HzJjY"
      }
    },
    {
      "cell_type": "code",
      "source": [
        "pd.set_option('display.max_columns', None)\n",
        "#pd.set_option('display.max_rows', None)\n",
        "pd.set_option('display.width', None)\n",
        "pd.set_option('display.float_format', lambda x: '%.3f' % x)"
      ],
      "metadata": {
        "execution": {
          "iopub.status.busy": "2023-09-10T21:31:54.774728Z",
          "iopub.execute_input": "2023-09-10T21:31:54.775351Z",
          "iopub.status.idle": "2023-09-10T21:31:54.781478Z",
          "shell.execute_reply.started": "2023-09-10T21:31:54.775309Z",
          "shell.execute_reply": "2023-09-10T21:31:54.780096Z"
        },
        "trusted": true,
        "id": "cmIoI6d1zJjZ"
      },
      "execution_count": null,
      "outputs": []
    },
    {
      "cell_type": "markdown",
      "source": [
        "# <div style=\"padding: 30px; color:white; margin:10; font-size:150%; text-align:left; display:fill; border-radius:10px; background-color:#3b3745\"><b><span style='color:#F1A424'>3 |</span></b> <b>Loading The Data Set</b></div>"
      ],
      "metadata": {
        "id": "m9v-5dpEzJjb"
      }
    },
    {
      "cell_type": "code",
      "source": [
        "df = pd.read_csv(\"/kaggle/input/veri-seti-son-2/veri_seti_son_2.csv\")"
      ],
      "metadata": {
        "execution": {
          "iopub.status.busy": "2023-09-10T21:31:57.760244Z",
          "iopub.execute_input": "2023-09-10T21:31:57.760883Z",
          "iopub.status.idle": "2023-09-10T21:31:57.78268Z",
          "shell.execute_reply.started": "2023-09-10T21:31:57.76084Z",
          "shell.execute_reply": "2023-09-10T21:31:57.781892Z"
        },
        "trusted": true,
        "id": "vBCVXAkGzJjc"
      },
      "execution_count": null,
      "outputs": []
    },
    {
      "cell_type": "code",
      "source": [
        "def print_section_title(title):\n",
        "    print(colored(title, 'blue', attrs=['bold', 'underline']))\n",
        "\n",
        "def display_head_and_tail(dataframe, head=5):\n",
        "    display(dataframe.head(head).style.set_caption(\"Head\"))\n",
        "    display(dataframe.tail(head).style.set_caption(\"Tail\"))\n",
        "\n",
        "def display_na(dataframe):\n",
        "    na_df = dataframe.isnull().sum().reset_index()\n",
        "    na_df.columns = ['Column', 'Number of NA']\n",
        "    display(na_df.style.set_caption(\"Number of NA Values\"))\n",
        "\n",
        "def display_quantiles(dataframe):\n",
        "    quantiles_df = dataframe.describe([0, 0.05, 0.50, 0.95, 0.99, 1]).T\n",
        "    display(quantiles_df.style.format(\"{:.2f}\").set_caption(\"Quantiles\"))\n",
        "\n",
        "def check_df(dataframe, head=5):\n",
        "    print_section_title('Shape')\n",
        "    print(dataframe.shape)\n",
        "    print_section_title('Types')\n",
        "    print(dataframe.dtypes.to_frame('Data Type').style.set_caption(\"Data Types\"))\n",
        "    print_section_title('Info')\n",
        "    print(dataframe.info())\n",
        "    print_section_title('Head & Tail')\n",
        "    display_head_and_tail(dataframe, head)\n",
        "    print_section_title('NA Values')\n",
        "    display_na(dataframe)\n",
        "    print_section_title('Quantiles')\n",
        "    display_quantiles(dataframe)"
      ],
      "metadata": {
        "execution": {
          "iopub.status.busy": "2023-09-10T21:32:00.852599Z",
          "iopub.execute_input": "2023-09-10T21:32:00.853105Z",
          "iopub.status.idle": "2023-09-10T21:32:00.865846Z",
          "shell.execute_reply.started": "2023-09-10T21:32:00.853044Z",
          "shell.execute_reply": "2023-09-10T21:32:00.864652Z"
        },
        "trusted": true,
        "id": "Jj7kXy-ezJjd"
      },
      "execution_count": null,
      "outputs": []
    },
    {
      "cell_type": "code",
      "source": [
        "check_df(df)"
      ],
      "metadata": {
        "execution": {
          "iopub.status.busy": "2023-09-10T21:32:04.27712Z",
          "iopub.execute_input": "2023-09-10T21:32:04.277484Z",
          "iopub.status.idle": "2023-09-10T21:32:04.40726Z",
          "shell.execute_reply.started": "2023-09-10T21:32:04.277456Z",
          "shell.execute_reply": "2023-09-10T21:32:04.406179Z"
        },
        "trusted": true,
        "id": "AGKNL8BVzJje"
      },
      "execution_count": null,
      "outputs": []
    },
    {
      "cell_type": "code",
      "source": [
        "drop_columns_new=[\"Project Name\", \"City\", \"County\", \"State\"]"
      ],
      "metadata": {
        "execution": {
          "iopub.status.busy": "2023-09-10T21:32:17.236385Z",
          "iopub.execute_input": "2023-09-10T21:32:17.236769Z",
          "iopub.status.idle": "2023-09-10T21:32:17.241099Z",
          "shell.execute_reply.started": "2023-09-10T21:32:17.236739Z",
          "shell.execute_reply": "2023-09-10T21:32:17.240328Z"
        },
        "trusted": true,
        "id": "12QzwIqhzJjf"
      },
      "execution_count": null,
      "outputs": []
    },
    {
      "cell_type": "code",
      "source": [
        "df.drop(drop_columns_new, axis =1, inplace=True)"
      ],
      "metadata": {
        "execution": {
          "iopub.status.busy": "2023-09-10T21:32:19.317934Z",
          "iopub.execute_input": "2023-09-10T21:32:19.318319Z",
          "iopub.status.idle": "2023-09-10T21:32:19.324356Z",
          "shell.execute_reply.started": "2023-09-10T21:32:19.318288Z",
          "shell.execute_reply": "2023-09-10T21:32:19.323397Z"
        },
        "trusted": true,
        "id": "nZpUcENGzJjg"
      },
      "execution_count": null,
      "outputs": []
    },
    {
      "cell_type": "code",
      "source": [
        "df.head()"
      ],
      "metadata": {
        "execution": {
          "iopub.status.busy": "2023-09-10T21:32:22.984507Z",
          "iopub.execute_input": "2023-09-10T21:32:22.984903Z",
          "iopub.status.idle": "2023-09-10T21:32:23.007931Z",
          "shell.execute_reply.started": "2023-09-10T21:32:22.984873Z",
          "shell.execute_reply": "2023-09-10T21:32:23.00676Z"
        },
        "trusted": true,
        "id": "HFyzq8b8zJjh"
      },
      "execution_count": null,
      "outputs": []
    },
    {
      "cell_type": "markdown",
      "source": [
        "# <div style=\"padding: 30px; color:white; margin:10; font-size:150%; text-align:left; display:fill; border-radius:10px; background-color:#3b3745\"><b><span style='color:#F1A424'>4 |</span></b> <b>Capturing / Detecting Numeric and Categorical Variables</b></div>"
      ],
      "metadata": {
        "id": "v3_Rwk0TzJjh"
      }
    },
    {
      "cell_type": "code",
      "source": [
        "def grab_col_names(dataframe, cat_th=10, car_th=20):\n",
        "    \"\"\"\n",
        "\n",
        "    Returns the names of categorical, numeric and categorical but cardinal variables in the data set.\n",
        "    Note Categorical variables include categorical variables with numeric appearance.\n",
        "\n",
        "    Parameters\n",
        "    ------\n",
        "        dataframe: dataframe\n",
        "                Variable names of the dataframe to be taken\n",
        "        cat_th: int, optional\n",
        "                class threshold for numeric but categorical variables\n",
        "        car_th: int, optinal\n",
        "                class threshold for categorical but cardinal variables\n",
        "\n",
        "    Returns\n",
        "    ------\n",
        "        cat_cols: list\n",
        "                Categorical variable list\n",
        "        num_cols: list\n",
        "                Numeric variable list\n",
        "        cat_but_car: list\n",
        "                List of cardinal variables with categorical appearance\n",
        "\n",
        "    Examples\n",
        "    ------\n",
        "        import seaborn as sns\n",
        "        df = sns.load_dataset(\"iris\")\n",
        "        print(grab_col_names(df))\n",
        "\n",
        "\n",
        "    Notes\n",
        "    ------\n",
        "        cat_cols + num_cols + cat_but_car = total number of variables\n",
        "        num_but_cat is inside cat_cols.\n",
        "        The sum of the 3 return lists equals the total number of variables: cat_cols + num_cols + cat_but_car = number of variables\n",
        "\n",
        "    \"\"\"\n",
        "\n",
        "    # cat_cols, cat_but_car\n",
        "    cat_cols = [col for col in dataframe.columns if dataframe[col].dtypes == \"O\"]\n",
        "\n",
        "    num_but_cat = [col for col in dataframe.columns if dataframe[col].nunique() < cat_th and\n",
        "                   dataframe[col].dtypes != \"O\"]\n",
        "\n",
        "    cat_but_car = [col for col in dataframe.columns if dataframe[col].nunique() > car_th and\n",
        "                   dataframe[col].dtypes == \"O\"]\n",
        "\n",
        "    cat_cols = cat_cols + num_but_cat\n",
        "\n",
        "    cat_cols = [col for col in cat_cols if col not in cat_but_car]\n",
        "\n",
        "    num_cols = [col for col in dataframe.columns if dataframe[col].dtypes != \"O\"]\n",
        "\n",
        "    num_cols = [col for col in num_cols if col not in num_but_cat]\n",
        "\n",
        "    print(f\"Observations: {dataframe.shape[0]}\")\n",
        "    print(f\"Variables: {dataframe.shape[1]}\")\n",
        "    print(f'cat_cols: {len(cat_cols)}')\n",
        "    print(f'num_cols: {len(num_cols)}')\n",
        "    print(f'cat_but_car: {len(cat_but_car)}')\n",
        "    print(f'num_but_cat: {len(num_but_cat)}')\n",
        "\n",
        "\n",
        "    return cat_cols, num_cols, cat_but_car, num_but_cat"
      ],
      "metadata": {
        "execution": {
          "iopub.status.busy": "2023-09-10T21:32:52.11445Z",
          "iopub.execute_input": "2023-09-10T21:32:52.114896Z",
          "iopub.status.idle": "2023-09-10T21:32:52.125193Z",
          "shell.execute_reply.started": "2023-09-10T21:32:52.114861Z",
          "shell.execute_reply": "2023-09-10T21:32:52.124092Z"
        },
        "trusted": true,
        "id": "dWyY5pYYzJji"
      },
      "execution_count": null,
      "outputs": []
    },
    {
      "cell_type": "code",
      "source": [
        "cat_cols, num_cols, cat_but_car,  num_but_cat = grab_col_names(df)"
      ],
      "metadata": {
        "execution": {
          "iopub.status.busy": "2023-09-10T21:32:55.507389Z",
          "iopub.execute_input": "2023-09-10T21:32:55.508239Z",
          "iopub.status.idle": "2023-09-10T21:32:55.519561Z",
          "shell.execute_reply.started": "2023-09-10T21:32:55.50819Z",
          "shell.execute_reply": "2023-09-10T21:32:55.518366Z"
        },
        "trusted": true,
        "id": "R2aJukRLzJjk"
      },
      "execution_count": null,
      "outputs": []
    },
    {
      "cell_type": "code",
      "source": [
        "cat_cols"
      ],
      "metadata": {
        "execution": {
          "iopub.status.busy": "2023-09-10T21:32:58.282707Z",
          "iopub.execute_input": "2023-09-10T21:32:58.283273Z",
          "iopub.status.idle": "2023-09-10T21:32:58.29173Z",
          "shell.execute_reply.started": "2023-09-10T21:32:58.283225Z",
          "shell.execute_reply": "2023-09-10T21:32:58.290497Z"
        },
        "trusted": true,
        "id": "YqT2MCAMzJjl"
      },
      "execution_count": null,
      "outputs": []
    },
    {
      "cell_type": "code",
      "source": [
        "num_cols"
      ],
      "metadata": {
        "execution": {
          "iopub.status.busy": "2023-09-10T21:33:00.798218Z",
          "iopub.execute_input": "2023-09-10T21:33:00.799188Z",
          "iopub.status.idle": "2023-09-10T21:33:00.8049Z",
          "shell.execute_reply.started": "2023-09-10T21:33:00.799146Z",
          "shell.execute_reply": "2023-09-10T21:33:00.804142Z"
        },
        "trusted": true,
        "id": "fDnb5cMmzJjl"
      },
      "execution_count": null,
      "outputs": []
    },
    {
      "cell_type": "code",
      "source": [
        "cat_but_car"
      ],
      "metadata": {
        "execution": {
          "iopub.status.busy": "2023-09-10T21:33:03.288866Z",
          "iopub.execute_input": "2023-09-10T21:33:03.289822Z",
          "iopub.status.idle": "2023-09-10T21:33:03.296804Z",
          "shell.execute_reply.started": "2023-09-10T21:33:03.289767Z",
          "shell.execute_reply": "2023-09-10T21:33:03.295723Z"
        },
        "trusted": true,
        "id": "GY-O0p7PzJjm"
      },
      "execution_count": null,
      "outputs": []
    },
    {
      "cell_type": "code",
      "source": [
        "num_but_cat"
      ],
      "metadata": {
        "execution": {
          "iopub.status.busy": "2023-09-10T21:33:05.519554Z",
          "iopub.execute_input": "2023-09-10T21:33:05.520095Z",
          "iopub.status.idle": "2023-09-10T21:33:05.527392Z",
          "shell.execute_reply.started": "2023-09-10T21:33:05.520033Z",
          "shell.execute_reply": "2023-09-10T21:33:05.526301Z"
        },
        "trusted": true,
        "id": "yTSE7-NpzJjm"
      },
      "execution_count": null,
      "outputs": []
    },
    {
      "cell_type": "markdown",
      "source": [
        "# <div style=\"padding: 30px; color:white; margin:10; font-size:150%; text-align:left; display:fill; border-radius:10px; background-color:#3b3745\"><b><span style='color:#F1A424'>5 |</span></b> <b>Analysis of Categorical Variables</b></div>"
      ],
      "metadata": {
        "id": "rvTArhV-zJjn"
      }
    },
    {
      "cell_type": "code",
      "source": [
        "def cat_summary(dataframe, col_name, plot=False):\n",
        "    print(pd.DataFrame({col_name: dataframe[col_name].value_counts(),\n",
        "                        'Ratio': 100 * dataframe[col_name].value_counts() / len(dataframe)}))\n",
        "    print('##########################################')\n",
        "    if plot:\n",
        "        plt.figure(figsize=(20,8))\n",
        "        sns.countplot(x=dataframe[col_name], data=dataframe)\n",
        "        plt.xticks(rotation=90)  # Rotate x-axis labels by 90 degrees\n",
        "        plt.show(block=True)"
      ],
      "metadata": {
        "execution": {
          "iopub.status.busy": "2023-09-10T21:35:18.986155Z",
          "iopub.execute_input": "2023-09-10T21:35:18.986574Z",
          "iopub.status.idle": "2023-09-10T21:35:18.993174Z",
          "shell.execute_reply.started": "2023-09-10T21:35:18.986543Z",
          "shell.execute_reply": "2023-09-10T21:35:18.992194Z"
        },
        "trusted": true,
        "id": "iMfw_VkpzJjn"
      },
      "execution_count": null,
      "outputs": []
    },
    {
      "cell_type": "code",
      "source": [
        "for col in cat_cols:\n",
        "    cat_summary(df, col, plot=True)"
      ],
      "metadata": {
        "execution": {
          "iopub.status.busy": "2023-09-10T21:35:22.123569Z",
          "iopub.execute_input": "2023-09-10T21:35:22.123977Z",
          "iopub.status.idle": "2023-09-10T21:35:24.844937Z",
          "shell.execute_reply.started": "2023-09-10T21:35:22.123944Z",
          "shell.execute_reply": "2023-09-10T21:35:24.843847Z"
        },
        "trusted": true,
        "id": "aSZsP7RfzJjo"
      },
      "execution_count": null,
      "outputs": []
    },
    {
      "cell_type": "markdown",
      "source": [
        "# <div style=\"padding: 30px; color:white; margin:10; font-size:150%; text-align:left; display:fill; border-radius:10px; background-color:#3b3745\"><b><span style='color:#F1A424'>6 |</span></b> <b>Analysis of Numerical Variables</b></div>"
      ],
      "metadata": {
        "id": "CBoS4KjZzJjo"
      }
    },
    {
      "cell_type": "code",
      "source": [
        "def num_summary(dataframe, numerical_col, plot=False):\n",
        "    quantiles = [0.05, 0.10, 0.20, 0.30, 0.40, 0.50, 0.60, 0.70, 0.80, 0.90, 0.95, 0.99]\n",
        "    print(dataframe[numerical_col].describe(quantiles).T)\n",
        "\n",
        "    if plot:\n",
        "        dataframe[numerical_col].hist(bins=20)\n",
        "\n",
        "        plt.xlabel(numerical_col)\n",
        "        plt.title(numerical_col)\n",
        "        plt.show(block=True)"
      ],
      "metadata": {
        "execution": {
          "iopub.status.busy": "2023-09-10T21:35:46.293708Z",
          "iopub.execute_input": "2023-09-10T21:35:46.294096Z",
          "iopub.status.idle": "2023-09-10T21:35:46.301062Z",
          "shell.execute_reply.started": "2023-09-10T21:35:46.294051Z",
          "shell.execute_reply": "2023-09-10T21:35:46.299927Z"
        },
        "trusted": true,
        "id": "VbMTmNkozJjp"
      },
      "execution_count": null,
      "outputs": []
    },
    {
      "cell_type": "code",
      "source": [
        "for col in num_cols:\n",
        "    num_summary(df, col, plot=True)"
      ],
      "metadata": {
        "execution": {
          "iopub.status.busy": "2023-09-10T21:35:52.023382Z",
          "iopub.execute_input": "2023-09-10T21:35:52.023756Z",
          "iopub.status.idle": "2023-09-10T21:35:56.66005Z",
          "shell.execute_reply.started": "2023-09-10T21:35:52.023728Z",
          "shell.execute_reply": "2023-09-10T21:35:56.659039Z"
        },
        "trusted": true,
        "id": "wD5woszozJjq"
      },
      "execution_count": null,
      "outputs": []
    },
    {
      "cell_type": "markdown",
      "source": [
        "# <div style=\"padding: 30px; color:white; margin:10; font-size:150%; text-align:left; display:fill; border-radius:10px; background-color:#3b3745\"><b><span style='color:#F1A424'>7 |</span></b> <b>Analysis of Categorical Variables by Target</b></div>"
      ],
      "metadata": {
        "id": "1UzjRfoCzJjq"
      }
    },
    {
      "cell_type": "code",
      "source": [
        "def target_summary_with_cat(dataframe, target, categorical_col, plot=False):\n",
        "    print(pd.DataFrame({'TARGET_MEAN': dataframe.groupby(categorical_col)[target].mean()}), end='\\n\\n\\n')\n",
        "    if plot:\n",
        "        plt.figure(figsize=(20,8))\n",
        "        sns.barplot(x=categorical_col, y=target, data=dataframe)\n",
        "        plt.xticks(rotation=90)\n",
        "        plt.show(block=True)"
      ],
      "metadata": {
        "execution": {
          "iopub.status.busy": "2023-09-10T21:37:41.873826Z",
          "iopub.execute_input": "2023-09-10T21:37:41.874244Z",
          "iopub.status.idle": "2023-09-10T21:37:41.880338Z",
          "shell.execute_reply.started": "2023-09-10T21:37:41.87421Z",
          "shell.execute_reply": "2023-09-10T21:37:41.879491Z"
        },
        "trusted": true,
        "id": "MIGy9RBGzJjr"
      },
      "execution_count": null,
      "outputs": []
    },
    {
      "cell_type": "code",
      "source": [
        "for col in cat_cols:\n",
        "    target_summary_with_cat(df, 'Biogas Generation Estimate (cu-ft/day)', col, plot=True)"
      ],
      "metadata": {
        "execution": {
          "iopub.status.busy": "2023-09-10T21:37:43.961133Z",
          "iopub.execute_input": "2023-09-10T21:37:43.962241Z",
          "iopub.status.idle": "2023-09-10T21:37:47.787804Z",
          "shell.execute_reply.started": "2023-09-10T21:37:43.962199Z",
          "shell.execute_reply": "2023-09-10T21:37:47.786527Z"
        },
        "trusted": true,
        "id": "lXd1C5IKzJjs"
      },
      "execution_count": null,
      "outputs": []
    },
    {
      "cell_type": "markdown",
      "source": [
        "# <div style=\"padding: 30px; color:white; margin:10; font-size:150%; text-align:left; display:fill; border-radius:10px; background-color:#3b3745\"><b><span style='color:#F1A424'>8 |</span></b> <b>Analysis of Numeric Variables by Target</b></div>"
      ],
      "metadata": {
        "id": "XhK0ZIfhzJjs"
      }
    },
    {
      "cell_type": "code",
      "source": [
        "def target_summary_with_num(dataframe, target, numerical_col, plot=False):\n",
        "    print(pd.DataFrame({numerical_col+'_mean': dataframe.groupby(target)[numerical_col].mean()}), end='\\n\\n\\n')\n",
        "    if plot:\n",
        "        sns.barplot(x=target, y=numerical_col, data=dataframe)\n",
        "        plt.show(block=True)"
      ],
      "metadata": {
        "execution": {
          "iopub.status.busy": "2023-09-10T21:38:59.910339Z",
          "iopub.execute_input": "2023-09-10T21:38:59.911275Z",
          "iopub.status.idle": "2023-09-10T21:38:59.917385Z",
          "shell.execute_reply.started": "2023-09-10T21:38:59.911223Z",
          "shell.execute_reply": "2023-09-10T21:38:59.916616Z"
        },
        "trusted": true,
        "id": "mwEw9BHZzJjt"
      },
      "execution_count": null,
      "outputs": []
    },
    {
      "cell_type": "code",
      "source": [
        "for col in num_cols:\n",
        "    target_summary_with_num(df, 'Biogas Generation Estimate (cu-ft/day)', col, plot=False)"
      ],
      "metadata": {
        "execution": {
          "iopub.status.busy": "2023-09-10T21:39:03.140277Z",
          "iopub.execute_input": "2023-09-10T21:39:03.140686Z",
          "iopub.status.idle": "2023-09-10T21:39:03.187247Z",
          "shell.execute_reply.started": "2023-09-10T21:39:03.140653Z",
          "shell.execute_reply": "2023-09-10T21:39:03.186147Z"
        },
        "trusted": true,
        "id": "31HvtO_vzJjt"
      },
      "execution_count": null,
      "outputs": []
    },
    {
      "cell_type": "markdown",
      "source": [
        "# <div style=\"padding: 30px; color:white; margin:10; font-size:150%; text-align:left; display:fill; border-radius:10px; background-color:#3b3745\"><b><span style='color:#F1A424'>9 |</span></b> <b>Analysis of Correlation</b></div>"
      ],
      "metadata": {
        "id": "LWi6WbKLzJju"
      }
    },
    {
      "cell_type": "code",
      "source": [
        "def high_correlated_cols(dataframe, plot=False, corr_th=0.70):\n",
        "    corr = dataframe.corr(numeric_only=True)\n",
        "    cor_matrix = corr.abs()\n",
        "    upper_triangle_matrix = cor_matrix.where(np.triu(np.ones(cor_matrix.shape), k=1).astype(bool))  # np.bool changed to bool\n",
        "    drop_list = [col for col in upper_triangle_matrix.columns if any(upper_triangle_matrix[col] > corr_th)]\n",
        "    if plot:\n",
        "        import seaborn as sns\n",
        "        import matplotlib.pyplot as plt\n",
        "        sns.set(rc={'figure.figsize': (16, 14)})\n",
        "        sns.heatmap(corr, cmap=\"RdBu\", annot=True, fmt=\".2f\")\n",
        "        plt.show()\n",
        "    return drop_list"
      ],
      "metadata": {
        "execution": {
          "iopub.status.busy": "2023-09-10T21:39:12.118804Z",
          "iopub.execute_input": "2023-09-10T21:39:12.119205Z",
          "iopub.status.idle": "2023-09-10T21:39:12.127196Z",
          "shell.execute_reply.started": "2023-09-10T21:39:12.119173Z",
          "shell.execute_reply": "2023-09-10T21:39:12.125915Z"
        },
        "trusted": true,
        "id": "yqTR7OhGzJju"
      },
      "execution_count": null,
      "outputs": []
    },
    {
      "cell_type": "code",
      "source": [
        "high_correlated_cols(df, plot=True)"
      ],
      "metadata": {
        "execution": {
          "iopub.status.busy": "2023-09-10T21:39:15.814118Z",
          "iopub.execute_input": "2023-09-10T21:39:15.814522Z",
          "iopub.status.idle": "2023-09-10T21:39:17.088168Z",
          "shell.execute_reply.started": "2023-09-10T21:39:15.814491Z",
          "shell.execute_reply": "2023-09-10T21:39:17.086962Z"
        },
        "trusted": true,
        "id": "hwk1veytzJjv"
      },
      "execution_count": null,
      "outputs": []
    },
    {
      "cell_type": "markdown",
      "source": [
        "# <div style=\"padding: 30px; color:white; margin:10; font-size:150%; text-align:left; display:fill; border-radius:10px; background-color:#3b3745\"><b><span style='color:#F1A424'>10 |</span></b> <b>Distribution of the Dependent Variable</b></div>"
      ],
      "metadata": {
        "id": "tX9Clmo9zJjv"
      }
    },
    {
      "cell_type": "code",
      "source": [
        "df[\"Biogas Generation Estimate (cu-ft/day)\"].hist(bins=100)\n",
        "plt.show(block=True)"
      ],
      "metadata": {
        "execution": {
          "iopub.status.busy": "2023-09-10T21:39:23.900544Z",
          "iopub.execute_input": "2023-09-10T21:39:23.901333Z",
          "iopub.status.idle": "2023-09-10T21:39:24.424847Z",
          "shell.execute_reply.started": "2023-09-10T21:39:23.901294Z",
          "shell.execute_reply": "2023-09-10T21:39:24.42374Z"
        },
        "trusted": true,
        "id": "N5ceboAZzJjv"
      },
      "execution_count": null,
      "outputs": []
    },
    {
      "cell_type": "markdown",
      "source": [
        "# <div style=\"padding: 30px; color:white; margin:10; font-size:150%; text-align:left; display:fill; border-radius:10px; background-color:#3b3745\"><b><span style='color:#F1A424'>11 |</span></b> <b>Examining the Logarithm of the Dependent Variable</b></div>"
      ],
      "metadata": {
        "id": "YzVLXNemzJj_"
      }
    },
    {
      "cell_type": "code",
      "source": [
        "np.log1p(df['Biogas Generation Estimate (cu-ft/day)']).hist(bins=50)\n",
        "plt.show(block=True)"
      ],
      "metadata": {
        "execution": {
          "iopub.status.busy": "2023-09-10T21:39:28.601573Z",
          "iopub.execute_input": "2023-09-10T21:39:28.602226Z",
          "iopub.status.idle": "2023-09-10T21:39:29.050315Z",
          "shell.execute_reply.started": "2023-09-10T21:39:28.602193Z",
          "shell.execute_reply": "2023-09-10T21:39:29.049249Z"
        },
        "trusted": true,
        "id": "26LXQEYvzJj_"
      },
      "execution_count": null,
      "outputs": []
    },
    {
      "cell_type": "markdown",
      "source": [
        "# <div style=\"padding: 30px; color:white; margin:10; font-size:150%; text-align:left; display:fill; border-radius:10px; background-color:#3b3745\"><b><span style='color:#F1A424'>12 |</span></b> <b>Outliers Analysis</b></div>"
      ],
      "metadata": {
        "id": "Iv2Db-O8zJkA"
      }
    },
    {
      "cell_type": "code",
      "source": [
        "def outlier_thresholds(dataframe, col_name, q1=0.25, q3=0.75):\n",
        "    quartile1 = dataframe[col_name].quantile(q1)\n",
        "    quartile3 = dataframe[col_name].quantile(q3)\n",
        "    interquantile_range = quartile3 - quartile1\n",
        "    up_limit = quartile3 + 1.5 * interquantile_range\n",
        "    low_limit = quartile1 - 1.5 * interquantile_range\n",
        "    return low_limit, up_limit"
      ],
      "metadata": {
        "execution": {
          "iopub.status.busy": "2023-09-10T21:39:33.982308Z",
          "iopub.execute_input": "2023-09-10T21:39:33.983047Z",
          "iopub.status.idle": "2023-09-10T21:39:33.988749Z",
          "shell.execute_reply.started": "2023-09-10T21:39:33.983004Z",
          "shell.execute_reply": "2023-09-10T21:39:33.987707Z"
        },
        "trusted": true,
        "id": "CmA1GzP6zJkB"
      },
      "execution_count": null,
      "outputs": []
    },
    {
      "cell_type": "code",
      "source": [
        "def check_outlier(dataframe, col_name):\n",
        "    low_limit, up_limit = outlier_thresholds(dataframe, col_name)\n",
        "    if dataframe[(dataframe[col_name] > up_limit) | (dataframe[col_name] < low_limit)].any(axis=None):\n",
        "        return True\n",
        "    else:\n",
        "        return False"
      ],
      "metadata": {
        "execution": {
          "iopub.status.busy": "2023-09-10T21:39:35.951584Z",
          "iopub.execute_input": "2023-09-10T21:39:35.951981Z",
          "iopub.status.idle": "2023-09-10T21:39:35.957736Z",
          "shell.execute_reply.started": "2023-09-10T21:39:35.951947Z",
          "shell.execute_reply": "2023-09-10T21:39:35.956556Z"
        },
        "trusted": true,
        "id": "l_oDy8LHzJkB"
      },
      "execution_count": null,
      "outputs": []
    },
    {
      "cell_type": "code",
      "source": [
        "def replace_with_thresholds(dataframe, variable):\n",
        "    low_limit, up_limit = outlier_thresholds(dataframe, variable)\n",
        "    dataframe.loc[(dataframe[variable] < low_limit), variable] = low_limit\n",
        "    dataframe.loc[(dataframe[variable] > up_limit), variable] = up_limit"
      ],
      "metadata": {
        "execution": {
          "iopub.status.busy": "2023-09-10T21:39:38.680607Z",
          "iopub.execute_input": "2023-09-10T21:39:38.68098Z",
          "iopub.status.idle": "2023-09-10T21:39:38.686819Z",
          "shell.execute_reply.started": "2023-09-10T21:39:38.68095Z",
          "shell.execute_reply": "2023-09-10T21:39:38.685766Z"
        },
        "trusted": true,
        "id": "DFypcm58zJkC"
      },
      "execution_count": null,
      "outputs": []
    },
    {
      "cell_type": "code",
      "source": [
        "for col in num_cols:\n",
        "    print(col, check_outlier(df, col))"
      ],
      "metadata": {
        "execution": {
          "iopub.status.busy": "2023-09-10T21:39:40.856176Z",
          "iopub.execute_input": "2023-09-10T21:39:40.856583Z",
          "iopub.status.idle": "2023-09-10T21:39:40.923023Z",
          "shell.execute_reply.started": "2023-09-10T21:39:40.856551Z",
          "shell.execute_reply": "2023-09-10T21:39:40.921864Z"
        },
        "trusted": true,
        "id": "6UocwAL5zJkD"
      },
      "execution_count": null,
      "outputs": []
    },
    {
      "cell_type": "code",
      "source": [
        "for col in num_cols:\n",
        "    if check_outlier(df, col):\n",
        "        replace_with_thresholds(df, col)"
      ],
      "metadata": {
        "execution": {
          "iopub.status.busy": "2023-09-10T21:39:47.729645Z",
          "iopub.execute_input": "2023-09-10T21:39:47.73006Z",
          "iopub.status.idle": "2023-09-10T21:39:47.832809Z",
          "shell.execute_reply.started": "2023-09-10T21:39:47.730025Z",
          "shell.execute_reply": "2023-09-10T21:39:47.83162Z"
        },
        "trusted": true,
        "id": "-D0v0s2-zJkD"
      },
      "execution_count": null,
      "outputs": []
    },
    {
      "cell_type": "code",
      "source": [
        "for col in num_cols:\n",
        "    print(col, check_outlier(df, col))"
      ],
      "metadata": {
        "execution": {
          "iopub.status.busy": "2023-09-10T21:39:50.125682Z",
          "iopub.execute_input": "2023-09-10T21:39:50.126053Z",
          "iopub.status.idle": "2023-09-10T21:39:50.187629Z",
          "shell.execute_reply.started": "2023-09-10T21:39:50.126024Z",
          "shell.execute_reply": "2023-09-10T21:39:50.186495Z"
        },
        "trusted": true,
        "id": "HcLOio25zJkE"
      },
      "execution_count": null,
      "outputs": []
    },
    {
      "cell_type": "markdown",
      "source": [
        "# <div style=\"padding: 30px; color:white; margin:10; font-size:150%; text-align:left; display:fill; border-radius:10px; background-color:#3b3745\"><b><span style='color:#F1A424'>13 |</span></b> <b>Missing Value Analysis</b></div>"
      ],
      "metadata": {
        "id": "GNu97w5WzJkF"
      }
    },
    {
      "cell_type": "markdown",
      "source": [
        "<div style=\"border: 2px solid #007BFF; padding: 20px; border-radius: 10px; background-color: #f9f9f9;\">\n",
        "    <h2 style=\"color: #007BFF;\">Missing Value Analysis</h2>\n",
        "    <p>I have handled the Feature Engineering processes in the <strong>GENERAL REVIEW OF BIOGAS IN U.S. FARMS</strong> section.</p>\n",
        "    <p>You can access it from the link below:</p>\n",
        "    <a href=\"https://www.kaggle.com/code/mehmetisik/general-review-of-biogas-in-u-s-farms\" style=\"background-color: #007BFF; color: #FFFFFF; padding: 10px 20px; text-decoration: none; border-radius: 5px;\">Click here to access</a>\n",
        "</div>"
      ],
      "metadata": {
        "id": "ak0yynYLzJkF"
      }
    },
    {
      "cell_type": "code",
      "source": [
        "def missing_values_table(dataframe, na_name=False):\n",
        "    na_columns = [col for col in dataframe.columns if dataframe[col].isnull().sum() > 0]\n",
        "\n",
        "    n_miss = dataframe[na_columns].isnull().sum().sort_values(ascending=False)\n",
        "\n",
        "    ratio = (dataframe[na_columns].isnull().sum() / dataframe.shape[0] * 100).sort_values(ascending=False)\n",
        "\n",
        "    missing_df = pd.concat([n_miss, np.round(ratio, 2)], axis=1, keys=['n_miss', 'ratio'])\n",
        "\n",
        "    print(missing_df, end=\"\\n\")\n",
        "\n",
        "    if na_name:\n",
        "        return na_columns"
      ],
      "metadata": {
        "execution": {
          "iopub.status.busy": "2023-09-10T21:39:54.198434Z",
          "iopub.execute_input": "2023-09-10T21:39:54.19939Z",
          "iopub.status.idle": "2023-09-10T21:39:54.207389Z",
          "shell.execute_reply.started": "2023-09-10T21:39:54.199349Z",
          "shell.execute_reply": "2023-09-10T21:39:54.206446Z"
        },
        "trusted": true,
        "id": "04uKbviSzJkG"
      },
      "execution_count": null,
      "outputs": []
    },
    {
      "cell_type": "code",
      "source": [
        "missing_values_table(df)"
      ],
      "metadata": {
        "execution": {
          "iopub.status.busy": "2023-09-10T21:39:57.145768Z",
          "iopub.execute_input": "2023-09-10T21:39:57.147042Z",
          "iopub.status.idle": "2023-09-10T21:39:57.161655Z",
          "shell.execute_reply.started": "2023-09-10T21:39:57.146999Z",
          "shell.execute_reply": "2023-09-10T21:39:57.160563Z"
        },
        "trusted": true,
        "id": "cVjVoDIwzJkH"
      },
      "execution_count": null,
      "outputs": []
    },
    {
      "cell_type": "markdown",
      "source": [
        "# <div style=\"padding: 30px; color:white; margin:10; font-size:150%; text-align:left; display:fill; border-radius:10px; background-color:#3b3745\"><b><span style='color:#F1A424'>14 |</span></b> <b>Rare Analysis</b></div>"
      ],
      "metadata": {
        "id": "sZjZ-48MzJkH"
      }
    },
    {
      "cell_type": "code",
      "source": [
        "def rare_analyser(dataframe, target, cat_cols):\n",
        "    for col in cat_cols:\n",
        "        print(col, ':', len(dataframe[col].value_counts()))\n",
        "        print(pd.DataFrame({'COUNT': dataframe[col].value_counts(),\n",
        "                            'RATIO': dataframe[col].value_counts() / len(dataframe),\n",
        "                            'TARGET_MEAN': dataframe.groupby(col)[target].mean()}), end='\\n\\n\\n')"
      ],
      "metadata": {
        "execution": {
          "iopub.status.busy": "2023-09-10T21:40:22.040579Z",
          "iopub.execute_input": "2023-09-10T21:40:22.040976Z",
          "iopub.status.idle": "2023-09-10T21:40:22.047259Z",
          "shell.execute_reply.started": "2023-09-10T21:40:22.040942Z",
          "shell.execute_reply": "2023-09-10T21:40:22.046142Z"
        },
        "trusted": true,
        "id": "o_zPfgtxzJkI"
      },
      "execution_count": null,
      "outputs": []
    },
    {
      "cell_type": "code",
      "source": [
        "rare_analyser(df, \"Biogas Generation Estimate (cu-ft/day)\", cat_cols)"
      ],
      "metadata": {
        "execution": {
          "iopub.status.busy": "2023-09-10T21:40:27.213665Z",
          "iopub.execute_input": "2023-09-10T21:40:27.214038Z",
          "iopub.status.idle": "2023-09-10T21:40:27.262236Z",
          "shell.execute_reply.started": "2023-09-10T21:40:27.214009Z",
          "shell.execute_reply": "2023-09-10T21:40:27.261153Z"
        },
        "trusted": true,
        "id": "BENJ-tAezJkJ"
      },
      "execution_count": null,
      "outputs": []
    },
    {
      "cell_type": "code",
      "source": [
        "def rare_encoder(dataframe, rare_perc):\n",
        "    temp_df = dataframe.copy()\n",
        "\n",
        "    rare_columns = [col for col in temp_df.columns if temp_df[col].dtypes == 'O'\n",
        "                    and (temp_df[col].value_counts() / len(temp_df) < rare_perc).any(axis=None)]\n",
        "\n",
        "    for var in rare_columns:\n",
        "        tmp = temp_df[var].value_counts() / len(temp_df)\n",
        "        rare_labels = tmp[tmp < rare_perc].index\n",
        "        temp_df[var] = np.where(temp_df[var].isin(rare_labels), 'Rare', temp_df[var])\n",
        "    return temp_df"
      ],
      "metadata": {
        "execution": {
          "iopub.status.busy": "2023-09-10T21:40:31.563069Z",
          "iopub.execute_input": "2023-09-10T21:40:31.563473Z",
          "iopub.status.idle": "2023-09-10T21:40:31.570687Z",
          "shell.execute_reply.started": "2023-09-10T21:40:31.563442Z",
          "shell.execute_reply": "2023-09-10T21:40:31.56963Z"
        },
        "trusted": true,
        "id": "hovfRaZozJkJ"
      },
      "execution_count": null,
      "outputs": []
    },
    {
      "cell_type": "code",
      "source": [
        "rare_encoder(df, 0.01)"
      ],
      "metadata": {
        "execution": {
          "iopub.status.busy": "2023-09-10T21:40:35.221346Z",
          "iopub.execute_input": "2023-09-10T21:40:35.221755Z",
          "iopub.status.idle": "2023-09-10T21:40:35.267479Z",
          "shell.execute_reply.started": "2023-09-10T21:40:35.22172Z",
          "shell.execute_reply": "2023-09-10T21:40:35.266532Z"
        },
        "trusted": true,
        "id": "IypTC5JizJkK"
      },
      "execution_count": null,
      "outputs": []
    },
    {
      "cell_type": "markdown",
      "source": [
        "# <div style=\"padding: 30px; color:white; margin:10; font-size:150%; text-align:left; display:fill; border-radius:10px; background-color:#3b3745\"><b><span style='color:#F1A424'>15 |</span></b> <b>Feature Extraction</b></div>"
      ],
      "metadata": {
        "id": "zlQQ0dTNzJkK"
      }
    },
    {
      "cell_type": "markdown",
      "source": [
        "<div style=\"border: 2px solid #007BFF; padding: 20px; border-radius: 10px; background-color: #f9f9f9;\">\n",
        "    <h2 style=\"color: #007BFF;\">Feature Engineering</h2>\n",
        "    <p>I have handled the Feature Engineering processes in the <strong>GENERAL REVIEW OF BIOGAS IN U.S. FARMS</strong> section.</p>\n",
        "    <p>You can access it from the link below:</p>\n",
        "    <a href=\"https://www.kaggle.com/code/mehmetisik/general-review-of-biogas-in-u-s-farms\" style=\"background-color: #007BFF; color: #FFFFFF; padding: 10px 20px; text-decoration: none; border-radius: 5px;\">Click here to access</a>\n",
        "</div>"
      ],
      "metadata": {
        "id": "6l4fgCBKzJkL"
      }
    },
    {
      "cell_type": "markdown",
      "source": [
        "# <div style=\"padding: 30px; color:white; margin:10; font-size:150%; text-align:left; display:fill; border-radius:10px; background-color:#3b3745\"><b><span style='color:#F1A424'>16 |</span></b> <b>Encoding</b></div>"
      ],
      "metadata": {
        "id": "Egbeg5sOzJkM"
      }
    },
    {
      "cell_type": "code",
      "source": [
        "cat_cols, num_cols, cat_but_car,  num_but_cat = grab_col_names(df)"
      ],
      "metadata": {
        "execution": {
          "iopub.status.busy": "2023-09-10T21:41:09.922209Z",
          "iopub.execute_input": "2023-09-10T21:41:09.922622Z",
          "iopub.status.idle": "2023-09-10T21:41:09.935183Z",
          "shell.execute_reply.started": "2023-09-10T21:41:09.922592Z",
          "shell.execute_reply": "2023-09-10T21:41:09.934054Z"
        },
        "trusted": true,
        "id": "SLNIw9yCzJkM"
      },
      "execution_count": null,
      "outputs": []
    },
    {
      "cell_type": "code",
      "source": [
        "cat_cols"
      ],
      "metadata": {
        "execution": {
          "iopub.status.busy": "2023-09-10T21:41:16.893732Z",
          "iopub.execute_input": "2023-09-10T21:41:16.894163Z",
          "iopub.status.idle": "2023-09-10T21:41:16.901565Z",
          "shell.execute_reply.started": "2023-09-10T21:41:16.894127Z",
          "shell.execute_reply": "2023-09-10T21:41:16.900436Z"
        },
        "trusted": true,
        "id": "UgWwk079zJkN"
      },
      "execution_count": null,
      "outputs": []
    },
    {
      "cell_type": "code",
      "source": [
        "cat_cols = ['Project Type',\n",
        " 'Digester Type',\n",
        " 'Status',\n",
        " 'Animal/Farm Type(s)',\n",
        " 'Co-Digestion',\n",
        " 'Biogas End Use(s)',\n",
        " 'LCFS Pathway?',\n",
        " 'Receiving Utility',\n",
        " 'Awarded USDA Funding?']"
      ],
      "metadata": {
        "execution": {
          "iopub.status.busy": "2023-09-10T21:46:34.603338Z",
          "iopub.execute_input": "2023-09-10T21:46:34.603785Z",
          "iopub.status.idle": "2023-09-10T21:46:34.609598Z",
          "shell.execute_reply.started": "2023-09-10T21:46:34.603753Z",
          "shell.execute_reply": "2023-09-10T21:46:34.608294Z"
        },
        "trusted": true,
        "id": "fUJxGB5MzJkN"
      },
      "execution_count": null,
      "outputs": []
    },
    {
      "cell_type": "code",
      "source": [
        "cat_cols"
      ],
      "metadata": {
        "execution": {
          "iopub.status.busy": "2023-09-10T21:46:36.114513Z",
          "iopub.execute_input": "2023-09-10T21:46:36.115551Z",
          "iopub.status.idle": "2023-09-10T21:46:36.122212Z",
          "shell.execute_reply.started": "2023-09-10T21:46:36.115508Z",
          "shell.execute_reply": "2023-09-10T21:46:36.121128Z"
        },
        "trusted": true,
        "id": "mfP4PPByzJkO"
      },
      "execution_count": null,
      "outputs": []
    },
    {
      "cell_type": "code",
      "source": [
        "num_cols"
      ],
      "metadata": {
        "execution": {
          "iopub.status.busy": "2023-09-10T21:41:20.244693Z",
          "iopub.execute_input": "2023-09-10T21:41:20.245688Z",
          "iopub.status.idle": "2023-09-10T21:41:20.253126Z",
          "shell.execute_reply.started": "2023-09-10T21:41:20.245634Z",
          "shell.execute_reply": "2023-09-10T21:41:20.251914Z"
        },
        "trusted": true,
        "id": "fXqNR36dzJkO"
      },
      "execution_count": null,
      "outputs": []
    },
    {
      "cell_type": "code",
      "source": [
        "num_cols = ['Year Operational',\n",
        " 'Dairy',\n",
        " 'Biogas Generation Estimate (cu-ft/day)',\n",
        " 'Electricity Generated (kWh/yr)',\n",
        " 'Total Emission Reductions (MTCO2e/yr)',\n",
        " 'Operational Years',\n",
        " 'Total_Animals',\n",
        " 'Biogas_per_Animal (cu-ft/day)',\n",
        " 'Emission_Reduction_per_Year',\n",
        " 'Electricity_to_Biogas_Ratio',\n",
        " 'Total_Waste_kg/day',\n",
        " 'Waste_Efficiency',\n",
        " 'Electricity_Efficiency', 'Cattle',\n",
        " 'Poultry',\n",
        " 'Swine']"
      ],
      "metadata": {
        "execution": {
          "iopub.status.busy": "2023-09-10T21:46:47.488909Z",
          "iopub.execute_input": "2023-09-10T21:46:47.48987Z",
          "iopub.status.idle": "2023-09-10T21:46:47.494932Z",
          "shell.execute_reply.started": "2023-09-10T21:46:47.489826Z",
          "shell.execute_reply": "2023-09-10T21:46:47.493855Z"
        },
        "trusted": true,
        "id": "KjMeSQauzJkP"
      },
      "execution_count": null,
      "outputs": []
    },
    {
      "cell_type": "code",
      "source": [
        "num_cols"
      ],
      "metadata": {
        "execution": {
          "iopub.status.busy": "2023-09-10T21:46:49.303433Z",
          "iopub.execute_input": "2023-09-10T21:46:49.304639Z",
          "iopub.status.idle": "2023-09-10T21:46:49.31201Z",
          "shell.execute_reply.started": "2023-09-10T21:46:49.304582Z",
          "shell.execute_reply": "2023-09-10T21:46:49.310659Z"
        },
        "trusted": true,
        "id": "2uXkHV_uzJkP"
      },
      "execution_count": null,
      "outputs": []
    },
    {
      "cell_type": "code",
      "source": [
        "cat_but_car"
      ],
      "metadata": {
        "execution": {
          "iopub.status.busy": "2023-09-10T21:46:53.235727Z",
          "iopub.execute_input": "2023-09-10T21:46:53.23681Z",
          "iopub.status.idle": "2023-09-10T21:46:53.242458Z",
          "shell.execute_reply.started": "2023-09-10T21:46:53.236767Z",
          "shell.execute_reply": "2023-09-10T21:46:53.241434Z"
        },
        "trusted": true,
        "id": "Rhl0k5QgzJkQ"
      },
      "execution_count": null,
      "outputs": []
    },
    {
      "cell_type": "code",
      "source": [
        "num_but_cat"
      ],
      "metadata": {
        "execution": {
          "iopub.status.busy": "2023-09-10T21:46:55.182592Z",
          "iopub.execute_input": "2023-09-10T21:46:55.182972Z",
          "iopub.status.idle": "2023-09-10T21:46:55.190257Z",
          "shell.execute_reply.started": "2023-09-10T21:46:55.182943Z",
          "shell.execute_reply": "2023-09-10T21:46:55.18907Z"
        },
        "trusted": true,
        "id": "5V3GY2BTzJkQ"
      },
      "execution_count": null,
      "outputs": []
    },
    {
      "cell_type": "code",
      "source": [
        "num_but_cat =[]"
      ],
      "metadata": {
        "execution": {
          "iopub.status.busy": "2023-09-10T21:47:14.498943Z",
          "iopub.execute_input": "2023-09-10T21:47:14.499367Z",
          "iopub.status.idle": "2023-09-10T21:47:14.504692Z",
          "shell.execute_reply.started": "2023-09-10T21:47:14.499333Z",
          "shell.execute_reply": "2023-09-10T21:47:14.503628Z"
        },
        "trusted": true,
        "id": "NuI56V3MzJkR"
      },
      "execution_count": null,
      "outputs": []
    },
    {
      "cell_type": "code",
      "source": [
        "num_but_cat"
      ],
      "metadata": {
        "execution": {
          "iopub.status.busy": "2023-09-10T21:47:21.626835Z",
          "iopub.execute_input": "2023-09-10T21:47:21.627272Z",
          "iopub.status.idle": "2023-09-10T21:47:21.633829Z",
          "shell.execute_reply.started": "2023-09-10T21:47:21.627235Z",
          "shell.execute_reply": "2023-09-10T21:47:21.632767Z"
        },
        "trusted": true,
        "id": "L8W6wFE7zJkS"
      },
      "execution_count": null,
      "outputs": []
    },
    {
      "cell_type": "code",
      "source": [
        "def one_hot_encoder(dataframe, categorical_cols, drop_first=False):\n",
        "    dataframe = pd.get_dummies(dataframe, columns=categorical_cols, drop_first=drop_first)\n",
        "    return dataframe"
      ],
      "metadata": {
        "execution": {
          "iopub.status.busy": "2023-09-10T21:47:34.790131Z",
          "iopub.execute_input": "2023-09-10T21:47:34.790517Z",
          "iopub.status.idle": "2023-09-10T21:47:34.796372Z",
          "shell.execute_reply.started": "2023-09-10T21:47:34.790486Z",
          "shell.execute_reply": "2023-09-10T21:47:34.795206Z"
        },
        "trusted": true,
        "id": "rM9uKjpXzJkS"
      },
      "execution_count": null,
      "outputs": []
    },
    {
      "cell_type": "code",
      "source": [
        "df = one_hot_encoder(df, cat_cols, drop_first=True)"
      ],
      "metadata": {
        "execution": {
          "iopub.status.busy": "2023-09-10T21:47:37.021326Z",
          "iopub.execute_input": "2023-09-10T21:47:37.021958Z",
          "iopub.status.idle": "2023-09-10T21:47:37.037226Z",
          "shell.execute_reply.started": "2023-09-10T21:47:37.021925Z",
          "shell.execute_reply": "2023-09-10T21:47:37.036311Z"
        },
        "trusted": true,
        "id": "UiUqp1rfzJkT"
      },
      "execution_count": null,
      "outputs": []
    },
    {
      "cell_type": "code",
      "source": [
        "df.head()"
      ],
      "metadata": {
        "execution": {
          "iopub.status.busy": "2023-09-10T21:47:39.219685Z",
          "iopub.execute_input": "2023-09-10T21:47:39.220416Z",
          "iopub.status.idle": "2023-09-10T21:47:39.253404Z",
          "shell.execute_reply.started": "2023-09-10T21:47:39.220375Z",
          "shell.execute_reply": "2023-09-10T21:47:39.252447Z"
        },
        "trusted": true,
        "id": "R3-u1C1BzJkU"
      },
      "execution_count": null,
      "outputs": []
    },
    {
      "cell_type": "markdown",
      "source": [
        "# <div style=\"padding: 30px; color:white; margin:10; font-size:150%; text-align:left; display:fill; border-radius:10px; background-color:#3b3745\"><b><span style='color:#F1A424'>17 |</span></b> <b>Standardization Process</b></div>"
      ],
      "metadata": {
        "id": "_umrYLS9zJkU"
      }
    },
    {
      "cell_type": "code",
      "source": [
        "num_cols = [col for col in num_cols if col not in [\"Biogas Generation Estimate (cu-ft/day)\"]]"
      ],
      "metadata": {
        "execution": {
          "iopub.status.busy": "2023-09-10T21:47:55.374737Z",
          "iopub.execute_input": "2023-09-10T21:47:55.375394Z",
          "iopub.status.idle": "2023-09-10T21:47:55.380091Z",
          "shell.execute_reply.started": "2023-09-10T21:47:55.375362Z",
          "shell.execute_reply": "2023-09-10T21:47:55.379073Z"
        },
        "trusted": true,
        "id": "5Hph21eVzJkV"
      },
      "execution_count": null,
      "outputs": []
    },
    {
      "cell_type": "code",
      "source": [
        "scaler = RobustScaler()"
      ],
      "metadata": {
        "execution": {
          "iopub.status.busy": "2023-09-10T21:47:57.21074Z",
          "iopub.execute_input": "2023-09-10T21:47:57.211785Z",
          "iopub.status.idle": "2023-09-10T21:47:57.217687Z",
          "shell.execute_reply.started": "2023-09-10T21:47:57.211742Z",
          "shell.execute_reply": "2023-09-10T21:47:57.216421Z"
        },
        "trusted": true,
        "id": "CxS3jiy_zJkW"
      },
      "execution_count": null,
      "outputs": []
    },
    {
      "cell_type": "code",
      "source": [
        "df[num_cols] = scaler.fit_transform(df[num_cols])"
      ],
      "metadata": {
        "execution": {
          "iopub.status.busy": "2023-09-10T21:47:59.720484Z",
          "iopub.execute_input": "2023-09-10T21:47:59.720884Z",
          "iopub.status.idle": "2023-09-10T21:47:59.738051Z",
          "shell.execute_reply.started": "2023-09-10T21:47:59.720852Z",
          "shell.execute_reply": "2023-09-10T21:47:59.736649Z"
        },
        "trusted": true,
        "id": "_qirOr-wzJkW"
      },
      "execution_count": null,
      "outputs": []
    },
    {
      "cell_type": "code",
      "source": [
        "df.head(10)"
      ],
      "metadata": {
        "execution": {
          "iopub.status.busy": "2023-09-10T21:48:01.694512Z",
          "iopub.execute_input": "2023-09-10T21:48:01.695362Z",
          "iopub.status.idle": "2023-09-10T21:48:01.733412Z",
          "shell.execute_reply.started": "2023-09-10T21:48:01.695327Z",
          "shell.execute_reply": "2023-09-10T21:48:01.732503Z"
        },
        "trusted": true,
        "id": "_OCrBkGMzJkX"
      },
      "execution_count": null,
      "outputs": []
    },
    {
      "cell_type": "code",
      "source": [
        "# Editing of variable names.\n",
        "\n",
        "df.columns = df.columns.str.replace(' ', '_')\n",
        "df.columns = df.columns.str.replace('[^A-Za-z0-9_]+', '', regex=True)\n",
        "df.columns = df.columns.str.lower()"
      ],
      "metadata": {
        "execution": {
          "iopub.status.busy": "2023-09-10T21:48:12.201924Z",
          "iopub.execute_input": "2023-09-10T21:48:12.203062Z",
          "iopub.status.idle": "2023-09-10T21:48:12.209567Z",
          "shell.execute_reply.started": "2023-09-10T21:48:12.203022Z",
          "shell.execute_reply": "2023-09-10T21:48:12.20864Z"
        },
        "trusted": true,
        "id": "uhQ7qFo4zJkY"
      },
      "execution_count": null,
      "outputs": []
    },
    {
      "cell_type": "code",
      "source": [
        "df.head()"
      ],
      "metadata": {
        "execution": {
          "iopub.status.busy": "2023-09-10T21:48:14.345785Z",
          "iopub.execute_input": "2023-09-10T21:48:14.346165Z",
          "iopub.status.idle": "2023-09-10T21:48:14.378382Z",
          "shell.execute_reply.started": "2023-09-10T21:48:14.346134Z",
          "shell.execute_reply": "2023-09-10T21:48:14.377391Z"
        },
        "trusted": true,
        "id": "SjUaAFGJzJkY"
      },
      "execution_count": null,
      "outputs": []
    },
    {
      "cell_type": "markdown",
      "source": [
        "# <div style=\"padding: 30px; color:white; margin:10; font-size:150%; text-align:left; display:fill; border-radius:10px; background-color:#3b3745\"><b><span style='color:#F1A424'>18 |</span></b> <b>Creating Model</b></div>"
      ],
      "metadata": {
        "id": "cev22DLPzJkZ"
      }
    },
    {
      "cell_type": "code",
      "source": [
        "y = df[\"biogas_generation_estimate_cuftday\"]"
      ],
      "metadata": {
        "execution": {
          "iopub.status.busy": "2023-09-10T21:48:22.754721Z",
          "iopub.execute_input": "2023-09-10T21:48:22.755113Z",
          "iopub.status.idle": "2023-09-10T21:48:22.760122Z",
          "shell.execute_reply.started": "2023-09-10T21:48:22.755068Z",
          "shell.execute_reply": "2023-09-10T21:48:22.759009Z"
        },
        "trusted": true,
        "id": "4UxDt1-uzJkZ"
      },
      "execution_count": null,
      "outputs": []
    },
    {
      "cell_type": "code",
      "source": [
        "X = df.drop([\"biogas_generation_estimate_cuftday\"], axis=1)"
      ],
      "metadata": {
        "execution": {
          "iopub.status.busy": "2023-09-10T21:48:25.514612Z",
          "iopub.execute_input": "2023-09-10T21:48:25.515029Z",
          "iopub.status.idle": "2023-09-10T21:48:25.521178Z",
          "shell.execute_reply.started": "2023-09-10T21:48:25.514994Z",
          "shell.execute_reply": "2023-09-10T21:48:25.520029Z"
        },
        "trusted": true,
        "id": "xzdgUod8zJka"
      },
      "execution_count": null,
      "outputs": []
    },
    {
      "cell_type": "code",
      "source": [
        "X_train, X_test, y_train, y_test = train_test_split(X, y, test_size=0.20, random_state=17)"
      ],
      "metadata": {
        "execution": {
          "iopub.status.busy": "2023-09-10T21:48:29.224751Z",
          "iopub.execute_input": "2023-09-10T21:48:29.225182Z",
          "iopub.status.idle": "2023-09-10T21:48:29.233718Z",
          "shell.execute_reply.started": "2023-09-10T21:48:29.225146Z",
          "shell.execute_reply": "2023-09-10T21:48:29.232458Z"
        },
        "trusted": true,
        "id": "7NwOVSpbzJkb"
      },
      "execution_count": null,
      "outputs": []
    },
    {
      "cell_type": "code",
      "source": [
        "# Model list\n",
        "models = [('LR', LinearRegression()),\n",
        "          (\"Ridge\", Ridge()),\n",
        "          (\"Lasso\", Lasso()),\n",
        "          (\"ElasticNet\", ElasticNet()),\n",
        "          ('KNN', KNeighborsRegressor()),\n",
        "          ('CART', DecisionTreeRegressor()),\n",
        "          ('RF', RandomForestRegressor()),\n",
        "          ('GBM', GradientBoostingRegressor()),\n",
        "          (\"XGBoost\", XGBRegressor(objective='reg:squarederror')),\n",
        "          (\"LightGBM\", LGBMRegressor()),\n",
        "          (\"CatBoost\", CatBoostRegressor(verbose=False))]\n",
        "\n",
        "# Initialize empty lists to store metrics and execution times\n",
        "rmse_scores = []\n",
        "r2_scores = []\n",
        "mae_scores = []\n",
        "mse_scores = []\n",
        "execution_times = []\n",
        "model_names = []\n",
        "\n",
        "# Main loop to fit, predict, and evaluate each model\n",
        "for name, regressor in models:\n",
        "    start_time = time.time()\n",
        "\n",
        "    # Fit the model\n",
        "    regressor.fit(X_train, y_train)\n",
        "\n",
        "    # Make predictions\n",
        "    y_pred = regressor.predict(X_test)\n",
        "\n",
        "    # Calculate RMSE\n",
        "    rmse = np.mean(np.sqrt(-cross_val_score(regressor, X, y, cv=5, scoring=\"neg_mean_squared_error\")))\n",
        "    rmse_scores.append(rmse)\n",
        "\n",
        "    # Calculate R^2 score\n",
        "    r2 = metrics.r2_score(y_test, y_pred)\n",
        "    r2_scores.append(r2)\n",
        "\n",
        "    # Calculate MAE\n",
        "    mae = metrics.mean_absolute_error(y_test, y_pred)\n",
        "    mae_scores.append(mae)\n",
        "\n",
        "    # Calculate MSE\n",
        "    mse = metrics.mean_squared_error(y_test, y_pred)\n",
        "    mse_scores.append(mse)\n",
        "\n",
        "    # Calculate the execution time of the model\n",
        "    execution_time = time.time() - start_time\n",
        "    execution_times.append(execution_time)\n",
        "\n",
        "    # Store model name\n",
        "    model_names.append(name)\n",
        "\n",
        "# Create a DataFrame to hold all the metrics and execution times\n",
        "results_df = pd.DataFrame({\n",
        "    'Model': model_names,\n",
        "    'RMSE': rmse_scores,\n",
        "    'R^2 Score': r2_scores,\n",
        "    'MAE': mae_scores,\n",
        "    'MSE': mse_scores,\n",
        "    'Execution Time (s)': execution_times\n",
        "})\n",
        "\n",
        "results_df"
      ],
      "metadata": {
        "execution": {
          "iopub.status.busy": "2023-09-10T21:48:32.188072Z",
          "iopub.execute_input": "2023-09-10T21:48:32.188496Z",
          "iopub.status.idle": "2023-09-10T21:48:51.129019Z",
          "shell.execute_reply.started": "2023-09-10T21:48:32.188464Z",
          "shell.execute_reply": "2023-09-10T21:48:51.12799Z"
        },
        "trusted": true,
        "id": "WCH8SwigzJkc"
      },
      "execution_count": null,
      "outputs": []
    },
    {
      "cell_type": "markdown",
      "source": [
        "# <div style=\"padding: 30px; color:white; margin:10; font-size:150%; text-align:left; display:fill; border-radius:10px; background-color:#3b3745\"><b><span style='color:#F1A424'>19 |</span></b> <b>Hyperparameter optimization</b></div>"
      ],
      "metadata": {
        "id": "VfMisDdRzJkd"
      }
    },
    {
      "cell_type": "code",
      "source": [
        "from sklearn.model_selection import GridSearchCV\n",
        "from sklearn.metrics import mean_squared_error, r2_score, mean_absolute_error\n",
        "\n",
        "# Initialize lists to store metrics\n",
        "rmse_scores = []\n",
        "r2_scores = []\n",
        "mae_scores = []\n",
        "mse_scores = []\n",
        "execution_times = []\n",
        "model_names = []\n",
        "\n",
        "# Define the hyperparameters for each model\n",
        "\n",
        "param_grids = {\n",
        "    'LR': {},\n",
        "    'Ridge': {'alpha': [0.01, 0.1, 1.0, 10.0, 100.0]},\n",
        "    'Lasso': {'alpha': [0.01, 0.1, 1.0, 10.0, 100.0]},\n",
        "    'ElasticNet': {'alpha': [0.01, 0.1, 1.0, 10.0, 100.0], 'l1_ratio': [0.1, 0.3, 0.5, 0.7, 0.9]},\n",
        "    'KNN': {'n_neighbors': [1, 3, 5, 7, 9]},\n",
        "    'CART': {'max_depth': [None, 5, 10, 20, 30], 'min_samples_leaf': [1, 2, 3]},\n",
        "    'RF': {'n_estimators': [10, 30, 50, 70, 100], 'max_depth': [None, 5, 10, 20]},\n",
        "    'GBM': {'n_estimators': [10, 30, 50, 70, 100], 'learning_rate': [0.005, 0.01, 0.05, 0.1]},\n",
        "    'XGBoost': {'n_estimators': [10, 30, 50, 70, 100], 'learning_rate': [0.005, 0.01, 0.05, 0.1]},\n",
        "    'LightGBM': {'n_estimators': [10, 30, 50, 70, 100], 'learning_rate': [0.005, 0.01, 0.05, 0.1]},\n",
        "    'CatBoost': {'iterations': [10, 30, 50, 70, 100], 'learning_rate': [0.005, 0.01, 0.05, 0.1], 'depth': [3, 4, 5, 6, 7]}\n",
        "}\n",
        "\n",
        "# Variables to store best model and score globally\n",
        "best_global_score = np.inf\n",
        "best_global_model = None\n",
        "\n",
        "# Main loop to fit, predict, and evaluate each model\n",
        "for name, regressor in models:\n",
        "    start_time = time.time()\n",
        "\n",
        "    # Hyperparameter tuning with GridSearchCV if param_grids is defined\n",
        "    if param_grids.get(name):\n",
        "        grid_search = GridSearchCV(regressor, param_grid=param_grids[name], cv=5, n_jobs=-1)\n",
        "        grid_search.fit(X_train, y_train)\n",
        "        best_model = grid_search.best_estimator_\n",
        "    else:\n",
        "        best_model = regressor\n",
        "        best_model.fit(X_train, y_train)\n",
        "\n",
        "    # Make predictions\n",
        "    y_pred = best_model.predict(X_test)\n",
        "\n",
        "    # Calculate RMSE\n",
        "    rmse = np.sqrt(mean_squared_error(y_test, y_pred))\n",
        "    rmse_scores.append(rmse)\n",
        "\n",
        "    # Update best global model and score\n",
        "    if rmse < best_global_score:\n",
        "        best_global_score = rmse\n",
        "        best_global_model = best_model\n",
        "\n",
        "    # Calculate other metrics\n",
        "    r2 = r2_score(y_test, y_pred)\n",
        "    r2_scores.append(r2)\n",
        "\n",
        "    mae = mean_absolute_error(y_test, y_pred)\n",
        "    mae_scores.append(mae)\n",
        "\n",
        "    mse = mean_squared_error(y_test, y_pred)\n",
        "    mse_scores.append(mse)\n",
        "\n",
        "    # Calculate execution time\n",
        "    execution_time = time.time() - start_time\n",
        "    execution_times.append(execution_time)\n",
        "\n",
        "    # Store model name\n",
        "    model_names.append(name)\n",
        "\n",
        "# Create a DataFrame to store all the metrics and execution times\n",
        "results_with_tuning_df = pd.DataFrame({\n",
        "    'Model': model_names,\n",
        "    'RMSE': rmse_scores,\n",
        "    'R^2 Score': r2_scores,\n",
        "    'MAE': mae_scores,\n",
        "    'MSE': mse_scores,\n",
        "    'Execution Time (s)': execution_times\n",
        "})\n",
        "\n",
        "results_with_tuning_df"
      ],
      "metadata": {
        "execution": {
          "iopub.status.busy": "2023-09-10T21:49:23.998947Z",
          "iopub.execute_input": "2023-09-10T21:49:23.9995Z",
          "iopub.status.idle": "2023-09-10T21:51:17.016606Z",
          "shell.execute_reply.started": "2023-09-10T21:49:23.999463Z",
          "shell.execute_reply": "2023-09-10T21:51:17.015466Z"
        },
        "trusted": true,
        "id": "SUUyQqPUzJkd"
      },
      "execution_count": null,
      "outputs": []
    },
    {
      "cell_type": "markdown",
      "source": [
        "# <div style=\"padding: 30px; color:white; margin:10; font-size:150%; text-align:left; display:fill; border-radius:10px; background-color:#3b3745\"><b><span style='color:#F1A424'>20 |</span></b> <b>Final Model Predictions and Comparison with True Prices</b></div>"
      ],
      "metadata": {
        "id": "-ccnoJiczJkf"
      }
    },
    {
      "cell_type": "code",
      "source": [
        "best_global_model"
      ],
      "metadata": {
        "execution": {
          "iopub.status.busy": "2023-09-10T21:51:31.70411Z",
          "iopub.execute_input": "2023-09-10T21:51:31.705139Z",
          "iopub.status.idle": "2023-09-10T21:51:31.716846Z",
          "shell.execute_reply.started": "2023-09-10T21:51:31.705093Z",
          "shell.execute_reply": "2023-09-10T21:51:31.715704Z"
        },
        "trusted": true,
        "id": "BqX5IRxdzJkf"
      },
      "execution_count": null,
      "outputs": []
    },
    {
      "cell_type": "code",
      "source": [
        "# Final Prediction Model\n",
        "final_model = best_global_model\n",
        "\n",
        "# Make predictions on the test set using the final model\n",
        "y_final_pred = final_model.predict(X_test)\n",
        "final_y_pred = (y_final_pred)\n",
        "final_y_test =(y_test)"
      ],
      "metadata": {
        "execution": {
          "iopub.status.busy": "2023-09-10T21:51:37.15661Z",
          "iopub.execute_input": "2023-09-10T21:51:37.157017Z",
          "iopub.status.idle": "2023-09-10T21:51:37.166316Z",
          "shell.execute_reply.started": "2023-09-10T21:51:37.156984Z",
          "shell.execute_reply": "2023-09-10T21:51:37.165432Z"
        },
        "trusted": true,
        "id": "CUpJc3dyzJkg"
      },
      "execution_count": null,
      "outputs": []
    },
    {
      "cell_type": "code",
      "source": [
        "# Create a DataFrame with the predicted prices and true prices\n",
        "results = pd.DataFrame({'Predicted Value': final_y_pred, 'True Value': final_y_test})\n",
        "\n",
        "# Calculate the difference between the true prices and predicted prices and add a new column\n",
        "results['Difference'] = results['True Value'] - results['Predicted Value']\n",
        "\n",
        "# Display the first 5 rows\n",
        "print(\"First 5 rows:\")\n",
        "print(results.head())\n",
        "\n",
        "# Display the last 5 rows\n",
        "print(\"\\nLast 5 rows:\")\n",
        "print(results.tail())"
      ],
      "metadata": {
        "execution": {
          "iopub.status.busy": "2023-09-10T21:51:40.154027Z",
          "iopub.execute_input": "2023-09-10T21:51:40.154631Z",
          "iopub.status.idle": "2023-09-10T21:51:40.165445Z",
          "shell.execute_reply.started": "2023-09-10T21:51:40.154599Z",
          "shell.execute_reply": "2023-09-10T21:51:40.16437Z"
        },
        "trusted": true,
        "id": "ADBzW8JQzJkh"
      },
      "execution_count": null,
      "outputs": []
    },
    {
      "cell_type": "code",
      "source": [
        "#Saving the Final CatBoost Model to Disk\n",
        "\n",
        "from joblib import dump\n",
        "\n",
        "dump(final_model, 'catboost_model.joblib')"
      ],
      "metadata": {
        "execution": {
          "iopub.status.busy": "2023-09-10T21:51:51.8198Z",
          "iopub.execute_input": "2023-09-10T21:51:51.820178Z",
          "iopub.status.idle": "2023-09-10T21:51:51.831532Z",
          "shell.execute_reply.started": "2023-09-10T21:51:51.820148Z",
          "shell.execute_reply": "2023-09-10T21:51:51.830396Z"
        },
        "trusted": true,
        "id": "RXlxiKSQzJkh"
      },
      "execution_count": null,
      "outputs": []
    },
    {
      "cell_type": "markdown",
      "source": [
        "# <div style=\"padding: 30px; color:white; margin:10; font-size:150%; text-align:left; display:fill; border-radius:10px; background-color:#3b3745\"><b><span style='color:#F1A424'>21 |</span></b> <b>Conclusion</b></div>"
      ],
      "metadata": {
        "id": "a5syryPgzJki"
      }
    },
    {
      "cell_type": "markdown",
      "source": [
        "<html lang=\"en\">\n",
        "<head>\n",
        "    <meta charset=\"UTF-8\">\n",
        "    <meta name=\"viewport\" content=\"width=device-width, initial-scale=1.0\">\n",
        "    <style>\n",
        "        body {\n",
        "            font-family: 'Verdana', sans-serif;\n",
        "            background-color: #e6f7ff; /* Light blue background */\n",
        "            color: #333333; /* Dark grey text */\n",
        "            margin: 0;\n",
        "            padding: 0;\n",
        "            overflow-x: hidden; /* Prevent horizontal scrolling */\n",
        "        }\n",
        "        .container {\n",
        "            max-width: 100%; /* Full width */\n",
        "            margin: 40px auto;\n",
        "            padding: 30px;\n",
        "            border: 2px solid #008080; /* Teal border */\n",
        "            border-radius: 15px;\n",
        "            background-color: rgba(230, 247, 255, 0.6); /* Slightly transparent light blue background */\n",
        "        }\n",
        "        p {\n",
        "            font-size: 18px;\n",
        "            line-height: 1.6;\n",
        "            margin: 20px 0;\n",
        "        }\n",
        "    </style>\n",
        "</head>\n",
        "<body>\n",
        "    <div class=\"container\">\n",
        "        <p>In this study, we delved deep into optimizing biogas production in U.S. livestock farms using various machine learning models. The dataset encompassed various livestock types such as cattle, dairy cows, poultry, and swine.</p>\n",
        "        <p>💡 <strong>Key Findings:</strong><br>\n",
        "        Among all models, the LightGBM model emerged as the most proficient, boasting an R^2 score of 0.893, indicating that it can explain 89.3% of the variability in biogas production. Notably, it achieved the lowest RMSE of 114,838.761, underscoring its accuracy. The CatBoost model also showcased a commendable performance with an R^2 score of 0.852, although its execution time was relatively higher at 58.845 seconds.</p>\n",
        "        <p>🚀 <strong>Implications:</strong><br>\n",
        "        These findings pave the way for:\n",
        "        <ul>\n",
        "            <li>Optimized Farming Strategies: Farmers can optimize livestock types for maximum biogas production, increasing profitability.</li>\n",
        "            <li>Investment Decisions: The insights serve as a tool for energy companies and investors to allocate resources efficiently for biogas production.</li>\n",
        "            <li>Sustainable Energy Goals: Policymakers can use this approach for scalable, sustainable energy solutions, contributing to environmental conservation.</li>\n",
        "        </ul>\n",
        "        </p>\n",
        "        <p>⏱ <strong>Future Work:</strong><br>\n",
        "        While the models, especially LightGBM, displayed promising outcomes, there's scope for further refinement. Future studies might involve more advanced machine learning techniques or additional features to enhance accuracy and reliability.</p>\n",
        "    </div>\n",
        "</body>\n",
        "</html>\n"
      ],
      "metadata": {
        "id": "zRBpp2y9zJki"
      }
    },
    {
      "cell_type": "markdown",
      "source": [
        "<div style=\"text-align: center; padding: 60px; background: url('https://source.unsplash.com/800x600?energy') no-repeat center/cover; border: 5px solid #FFEB3B; border-radius: 35px; box-shadow: 0 15px 25px rgba(0, 0, 0, 0.2);\">\n",
        "    <p style=\"font-size: 26px; margin-bottom: 35px; color: #000000; font-family: 'Arial', sans-serif; font-weight: bold; text-transform: uppercase; letter-spacing: 3px; text-shadow: 4px 4px 8px rgba(0, 0, 0, 0.5); animation: slide 3s infinite alternate;\">\n",
        "        Click for the Next Analysis => U.S. Farm Biogas ML Prediction (Dairy Cow Farms)\n",
        "    </p>\n",
        "    <a href=\"https://www.kaggle.com/code/mehmetisik/u-s-farm-biogas-ml-prediction-dairy-cow-farms\" target=\"_blank\" style=\"text-decoration: none; display: inline-block; padding: 15px 30px; font-size: 24px; color: #673AB7; background-color: #FFFFFF; border-radius: 50px; transition: transform 0.3s ease; box-shadow: 0 6px 12px rgba(0, 0, 0, 0.2);\">👉</a>\n",
        "    <style>\n",
        "        @keyframes pulsate {\n",
        "            0% { transform: scale(1); }\n",
        "            50% { transform: scale(1.08); }\n",
        "            100% { transform: scale(1); }\n",
        "        }\n",
        "        @keyframes slide {\n",
        "            0% { transform: translateX(-10px); }\n",
        "            100% { transform: translateX(10px); }\n",
        "        }\n",
        "        a:hover {\n",
        "            transform: translateY(-5px);\n",
        "            box-shadow: 0 8px 16px rgba(0, 0, 0, 0.3);\n",
        "        }\n",
        "    </style>\n",
        "</div>"
      ],
      "metadata": {
        "id": "vIAH3RqizJkj"
      }
    }
  ]
}